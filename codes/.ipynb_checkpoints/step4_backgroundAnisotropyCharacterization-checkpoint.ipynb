{
 "cells": [
  {
   "cell_type": "code",
   "execution_count": null,
   "metadata": {
    "collapsed": true
   },
   "outputs": [],
   "source": [
    "#!/usr/bin/env python\n",
    "\"\"\"choose_skies.ipynb: a notebook to create and examine GW backgrounds \"\"\"\n",
    "\n",
    "__author__ = \"Chiara M. F. Mingarelli\"\n",
    "__copyright__ = \"Copyright 2016, GWASAP project\"\n",
    "__credits__ = [\"Chiara Mingarelli\", \"Stephen Taylor\"]\n",
    "__license__ = \"GPL\"\n",
    "__version__ = \"0.0.1\"\n",
    "__maintainer__ = \"Chiara Mingarelli\"\n",
    "__email__ = \"mingarelli@gmail.com\"\n"
   ]
  },
  {
   "cell_type": "code",
   "execution_count": null,
   "metadata": {
    "collapsed": false
   },
   "outputs": [],
   "source": [
    "from __future__ import division\n",
    "from IPython.display import display, Math, Latex\n",
    "import math\n",
    "from math import sqrt, cos, sin, pi\n",
    "import numpy as np\n",
    "import matplotlib.pyplot as plt\n",
    "import matplotlib.mlab as ml\n",
    "from matplotlib.ticker import FormatStrFormatter, LinearLocator, NullFormatter, NullLocator, MultipleLocator\n",
    "import matplotlib.ticker\n",
    "import matplotlib.colors\n",
    "from matplotlib.font_manager import FontProperties\n",
    "from matplotlib import rc, text\n",
    "import healpy as hp\n",
    "import plot_mpl2 as plot\n",
    "from astropy.io import fits\n",
    "\n",
    "import AnisCoefficients_pix as cbylm_pix \n",
    "\n",
    "%matplotlib inline\n",
    "%config InlineBackend.figure_format = \"retina\""
   ]
  },
  {
   "cell_type": "code",
   "execution_count": null,
   "metadata": {
    "collapsed": true
   },
   "outputs": [],
   "source": [
    "freq_choice = np.loadtxt(\"gw_freqs.dat\") #available GW frequencies"
   ]
  },
  {
   "cell_type": "code",
   "execution_count": null,
   "metadata": {
    "collapsed": false
   },
   "outputs": [],
   "source": [
    "# source sky\n",
    "\n",
    "sim_sky_all = np.genfromtxt(\"example_sky/herc_1249_test_2017-02-28-16:05:40_10.txt\")\n",
    "RA_tot_all = sim_sky_all[:,0] #phi, add pi to this for healpix maps\n",
    "DEC_tot_all = sim_sky_all[:,1] #theta\n",
    "freq_all = sim_sky_all[:,2]\n",
    "strain_vec_all = sim_sky_all[:,3]\n",
    "file_size_all = strain_vec_all.size # number of galaxies in file\n",
    "\n"
   ]
  },
  {
   "cell_type": "code",
   "execution_count": null,
   "metadata": {
    "collapsed": false
   },
   "outputs": [],
   "source": []
  },
  {
   "cell_type": "code",
   "execution_count": null,
   "metadata": {
    "collapsed": false
   },
   "outputs": [],
   "source": [
    "# source sky, source removed from row 71\n",
    "\n",
    "sim_sky_noise = np.delete(sim_sky_all, 69, axis = 0)\n",
    "RA_tot_noise = sim_sky_noise[:,0] #phi, add pi to this for healpix maps\n",
    "DEC_tot_noise = sim_sky_noise[:,1] #theta\n",
    "freq_noise = sim_sky_noise[:,2]\n",
    "strain_vec_noise = sim_sky_noise[:,3]\n",
    "file_size_noise = strain_vec_noise.size # number of galaxies in file\n"
   ]
  },
  {
   "cell_type": "code",
   "execution_count": null,
   "metadata": {
    "collapsed": false
   },
   "outputs": [],
   "source": [
    "file_size_all"
   ]
  },
  {
   "cell_type": "code",
   "execution_count": null,
   "metadata": {
    "collapsed": true
   },
   "outputs": [],
   "source": [
    "# A map of the sky realization where the detection was made"
   ]
  },
  {
   "cell_type": "code",
   "execution_count": null,
   "metadata": {
    "collapsed": false
   },
   "outputs": [],
   "source": [
    "ax = plt.subplot(111, projection='astro mollweide')\n",
    "\n",
    "# plot \"noise\" map (GW sky with 2 loud sources removed)\n",
    "#ax.grid()\n",
    "#plot.outline_text(ax)\n",
    "maxstrain = np.amax(strain_vec_all)\n",
    "colors = (strain_vec_all) # make colors vary with respect to strain\n",
    "#area = pi * (15 * strain_vec/maxstrain)**2  # adapt circles with 0 to 15 point radii\n",
    "\n",
    "# labels\n",
    "plt.suptitle(r'strain, $h$', y=0.3)\n",
    "sc = plt.scatter(RA_tot_all, DEC_tot_all, c = colors, cmap = 'viridis', alpha = 0.9, edgecolors='none',s=10)\n",
    "#plt.suptitle(r'strain, h$', y=0.3)\n",
    "plt.scatter(187.445*pi/180, 8.00000000003*pi/180, color ='yellow', marker = '*', s=80,\\\n",
    "           edgecolor = \"black\", lw=0.2)\n",
    "#plt.scatter(187.445*pi/180, 8.00000000003*pi/180, color ='yellow', marker = '*', s=50)\n",
    "\n",
    "plt.colorbar(sc, orientation = 'horizontal')\n",
    "#plt.savefig(\"NGC4472_mapWsource.pdf\")"
   ]
  },
  {
   "cell_type": "code",
   "execution_count": null,
   "metadata": {
    "collapsed": true
   },
   "outputs": [],
   "source": [
    "# What does the GW background look like from this sky?"
   ]
  },
  {
   "cell_type": "code",
   "execution_count": null,
   "metadata": {
    "collapsed": true
   },
   "outputs": [],
   "source": [
    "def h2_c(hk, fk, deltaF):\n",
    "    \"\"\"\n",
    "    Eq 35 Babak et al. 2016; \n",
    "    Given a sky of strains at certain frequencies,\n",
    "    what is it in terms of a GW background?\n",
    "    returns h^2_c\n",
    "    \"\"\"\n",
    "    h2k = np.square(hk)\n",
    "    ans = h2k*fk/deltaF\n",
    "    return ans\n",
    "\n",
    "\n",
    "def pol2cart(lon, lat): \n",
    "    \"\"\" \n",
    "    Utility function to convert longitude,latitude on a unit sphere to \n",
    "    cartesian co-ordinates.\n",
    "\n",
    "    \"\"\" \n",
    "\n",
    "    x = np.cos(lat)*np.cos(lon) \n",
    "    y = np.cos(lat)*np.sin(lon) \n",
    "    z = np.sin(lat) \n",
    "\n",
    "    return np.array([x,y,z])\n",
    "\n",
    "\n",
    "def greedy_bin_sky(skypos, skycarts, weights=None):\n",
    "    \"\"\"\n",
    "\n",
    "    Greedy binning algorithm\n",
    "\n",
    "    \"\"\"\n",
    "\n",
    "    N = len(skycarts) \n",
    "    skycarts = np.array(skycarts)\n",
    "    bins = np.zeros(N)\n",
    "    ct = 0\n",
    "    for raSample, decSample in skypos: \n",
    "        sampcart = pol2cart(raSample, decSample) \n",
    "        dx = np.dot(skycarts, sampcart)\n",
    "        maxdx = np.argmax(dx)\n",
    "\n",
    "        if weights is not None:\n",
    "            bins[maxdx] += weights[ct]\n",
    "        else:\n",
    "            bins[maxdx] += 1\n",
    "\n",
    "        ct += 1\n",
    "\n",
    "    # fill in skymap\n",
    "    histIndices = np.argsort(bins)[::-1]    # in decreasing order\n",
    "    NSamples = len(skypos)\n",
    "\n",
    "    frac = 0.0\n",
    "    skymap = np.zeros(N)\n",
    "    for i in histIndices:\n",
    "        frac = float(bins[i]) # /float(NSamples) \n",
    "        skymap[i] = frac\n",
    "\n",
    "    return skymap\n",
    "\n",
    "\n",
    "def plotSkyMap(raSample, decSample, nside=64, contours=None, colorbar=True, \\\n",
    "              inj=None, weights=None, psrs=None):\n",
    "    \"\"\"\n",
    "\n",
    "    Plot Skymap of chain samples on Mollwiede projection.\n",
    "\n",
    "    @param raSample: Array of right ascension samples\n",
    "    @param decSample: Array of declination  samples\n",
    "    @param nside: Number of pixels across equator [default = 64]\n",
    "    @param contours: Confidence contours to draw eg. 68%, 95% etc\n",
    "                     By default this is set to none and no contours\n",
    "                     will be drawn.\n",
    "    @param colorbar: Boolean option to draw colorbar [default = True]\n",
    "    @param inj: list of injected values [ra, dec] in radians to plot\n",
    "                [default = None]\n",
    "    @param weights: sample weights [default = None]\n",
    "    @param psrs: Stacked array of pulsar sky locations [ra, dec] in radians\n",
    "                 [default=None] Will plot as white diamonds\n",
    "\n",
    "    \"\"\"\n",
    "\n",
    "    # clear figures\n",
    "    plt.clf()\n",
    "\n",
    "    # create stacked array of ra and dec\n",
    "    skypos = np.column_stack([raSample, decSample])\n",
    "\n",
    "    npix = hp.nside2npix(nside)    # number of pixels total\n",
    "\n",
    "\n",
    "    # initialize theta and phi map coordinantes\n",
    "    skycarts=[]\n",
    "    for ii in range(npix):\n",
    "        skycarts.append(np.array(hp.pix2vec(nside,ii)))\n",
    "\n",
    "    # get skymap values from greedy binning algorithm\n",
    "    skymap = greedy_bin_sky(skypos, skycarts, weights)\n",
    "\n",
    "    # smooth skymap\n",
    "    skymap = hp.smoothing(skymap, 0.1)\n",
    "\n",
    "    # make plot\n",
    "    ax = plt.subplot(111, projection='astro mollweide')\n",
    "\n",
    "    # plot map\n",
    "    #ax.grid()\n",
    "    #plot.outline_text(ax)\n",
    "    plot.healpix_heatmap(skymap, cmap = 'viridis')\n",
    "\n",
    "    return skymap\n",
    "    # save skymap\n",
    "    #plt.savefig('skymap.pdf', bbox_inches='tight')"
   ]
  },
  {
   "cell_type": "code",
   "execution_count": null,
   "metadata": {
    "collapsed": true
   },
   "outputs": [],
   "source": [
    "T = 315360000*2.5 # 25 years in seconds, consistent with EPTA data\n",
    "dF = 1/T"
   ]
  },
  {
   "cell_type": "code",
   "execution_count": null,
   "metadata": {
    "collapsed": false
   },
   "outputs": [],
   "source": [
    "#\n",
    "hc_strain_noise = np.sqrt(h2_c(strain_vec_noise, freq_noise, dF))\n",
    "hc_strain_all = np.sqrt(h2_c(strain_vec_all, freq_all, dF))"
   ]
  },
  {
   "cell_type": "code",
   "execution_count": null,
   "metadata": {
    "collapsed": true
   },
   "outputs": [],
   "source": [
    "hc_strain_noiseLog = np.log10(hc_strain_noise)"
   ]
  },
  {
   "cell_type": "code",
   "execution_count": null,
   "metadata": {
    "collapsed": false
   },
   "outputs": [],
   "source": []
  },
  {
   "cell_type": "code",
   "execution_count": null,
   "metadata": {
    "collapsed": false
   },
   "outputs": [],
   "source": [
    "hpskymap_all = plotSkyMap(RA_tot_all, DEC_tot_all , weights = hc_strain_all)\n",
    "plt.suptitle(r'characteristic strain, $h_c$', y=0.3)\n",
    "plt.colorbar(orientation='horizontal')\n",
    "#plt.savefig('../manuscript/plots/GWB_strongSource-25yrs-blk.pdf', bbox_inches='tight')"
   ]
  },
  {
   "cell_type": "code",
   "execution_count": null,
   "metadata": {
    "collapsed": false
   },
   "outputs": [],
   "source": [
    "hpskymap_noise = plotSkyMap(RA_tot_noise, DEC_tot_noise , weights = hc_strain_noise)\n",
    "plt.suptitle(r'characteristic strain, $h_c$', y=0.3)\n",
    "plt.colorbar( orientation='horizontal')\n",
    "#plt.savefig('../manuscript/plots/background_from_CGWs-25-blk.pdf', bbox_inches='tight')"
   ]
  },
  {
   "cell_type": "code",
   "execution_count": null,
   "metadata": {
    "collapsed": false
   },
   "outputs": [],
   "source": [
    "hp.pixelfunc.remove_monopole(hpskymap_all)"
   ]
  },
  {
   "cell_type": "code",
   "execution_count": null,
   "metadata": {
    "collapsed": false
   },
   "outputs": [],
   "source": [
    "# create alm map form healpix map\n",
    "alm_map_noise = hp.map2alm(hpskymap_noise,lmax=10)\n",
    "alm_map_all = hp.map2alm(hpskymap_all,lmax=10)\n",
    "\n",
    "# make a map in terms of \\ell from the alm map\n",
    "hpskymap_lmax_noise = hp.alm2map(alm_map_noise,nside=64)\n",
    "hpskymap_lmax_all = hp.alm2map(alm_map_all,nside=64)"
   ]
  },
  {
   "cell_type": "code",
   "execution_count": null,
   "metadata": {
    "collapsed": false
   },
   "outputs": [],
   "source": []
  },
  {
   "cell_type": "code",
   "execution_count": null,
   "metadata": {
    "collapsed": false
   },
   "outputs": [],
   "source": [
    "plotSkyMap(RA_tot_all, DEC_tot_all, weights = hpskymap_lmax_noise)\n",
    "plt.colorbar(orientation='horizontal')\n"
   ]
  },
  {
   "cell_type": "code",
   "execution_count": null,
   "metadata": {
    "collapsed": false
   },
   "outputs": [],
   "source": [
    "hpskymap_lmax_noise[hpskymap_lmax_noise < 0.0] = 0.0\n",
    "hpskymap_lmax_all[hpskymap_lmax_all < 0.0] = 0.0"
   ]
  },
  {
   "cell_type": "code",
   "execution_count": null,
   "metadata": {
    "collapsed": true
   },
   "outputs": [],
   "source": [
    "# What does this sky look like in terms of an anisotropic background?"
   ]
  },
  {
   "cell_type": "code",
   "execution_count": null,
   "metadata": {
    "collapsed": false
   },
   "outputs": [],
   "source": [
    "# h^2_c for C_l decomposition\n",
    "\n",
    "hpskymap2_noise = plotSkyMap(RA_tot_noise, DEC_tot_noise , weights = hc_strain_noise**2)\n",
    "hpskymap2_all = plotSkyMap(RA_tot_all, DEC_tot_all, weights = hc_strain_all**2)\n",
    "\n",
    "# create alm map form healpix map\n",
    "\n",
    "alm_map2_noise = hp.map2alm(hpskymap2_noise,lmax=10)\n",
    "alm_map2_all = hp.map2alm(hpskymap2_all,lmax=10)\n",
    "\n",
    "# make a map in terms of \\ell from the alm map\n",
    "\n",
    "hpskymap_lmax2_noise = hp.alm2map(alm_map2_noise,nside=64)\n",
    "hpskymap_lmax2_all = hp.alm2map(alm_map2_all,nside=64)\n"
   ]
  },
  {
   "cell_type": "code",
   "execution_count": null,
   "metadata": {
    "collapsed": false
   },
   "outputs": [],
   "source": [
    "## Decompose this onto real spherical harmonics with our standard normalisations\n",
    "lmax = 50\n",
    "\n",
    "clm_noise = cbylm_pix.clmFromMap_fast(hpskymap2_noise, lmax)\n",
    "clm_all = cbylm_pix.clmFromMap_fast(hpskymap2_all, lmax)"
   ]
  },
  {
   "cell_type": "code",
   "execution_count": null,
   "metadata": {
    "collapsed": true
   },
   "outputs": [],
   "source": [
    "## Make the angular power spectrum, Cl = \\sum_m |clm|^2 / (2l+1)\n",
    "\n",
    "Cl_all = np.zeros(lmax+1)\n",
    "for ll in range(0,lmax+1):\n",
    "    Cl_all[ll] = np.sum(clm_all[ll**2:(ll+1)**2]**2.0) / (2.0*ll+1.0) / (4.0*pi)"
   ]
  },
  {
   "cell_type": "code",
   "execution_count": null,
   "metadata": {
    "collapsed": true
   },
   "outputs": [],
   "source": [
    "## Make the angular power spectrum, Cl = \\sum_m |clm|^2 / (2l+1)\n",
    "\n",
    "Cl_noise = np.zeros(lmax+1)\n",
    "for ll in range(0,lmax+1):\n",
    "    Cl_noise[ll] = np.sum(clm_noise[ll**2:(ll+1)**2]**2.0) / (2.0*ll+1.0) / (4.0*pi)"
   ]
  },
  {
   "cell_type": "code",
   "execution_count": null,
   "metadata": {
    "collapsed": false
   },
   "outputs": [],
   "source": [
    "# plotting preamble (credit J. Ellis)\n",
    "\n",
    "fig_width_pt = 245.27 #513.17           # Get this from LaTeX using \\showthe\\columnwidth\n",
    "inches_per_pt = 1.0/72.27               # Convert pt to inches\n",
    "golden_mean = (np.sqrt(5)-1.0)/2.0      # Aesthetic ratio\n",
    "fig_width = fig_width_pt*inches_per_pt  # width in inches\n",
    "fig_height =fig_width*golden_mean       # height in inches\n",
    "fig_size = [fig_width,fig_height]\n",
    "\n",
    "params = {'backend': 'pdf',\n",
    "        'axes.labelsize': 7,\n",
    "        'lines.markersize': 2,\n",
    "        'font.size': 7,\n",
    "        'xtick.major.size':6,\n",
    "        'xtick.minor.size':3,  \n",
    "        'ytick.major.size':6,\n",
    "        'ytick.minor.size':3, \n",
    "        'xtick.major.width':0.5,\n",
    "        'ytick.major.width':0.5,\n",
    "        'xtick.minor.width':0.5,\n",
    "        'ytick.minor.width':0.5,\n",
    "        'lines.markeredgewidth':1,\n",
    "        'axes.linewidth':1.0,\n",
    "        'legend.fontsize': 7,\n",
    "        'xtick.labelsize': 7,\n",
    "        'ytick.labelsize': 7,\n",
    "        'savefig.dpi':200,\n",
    "        'path.simplify':True,\n",
    "        'font.family': 'serif',\n",
    "        'font.serif':'Times',\n",
    "        'text.latex.preamble': [r'\\usepackage{amsmath}'],\n",
    "        'text.usetex':True,\n",
    "        #'axes.color_cycle': ['b', 'lime', 'r', 'purple', 'g', 'c', 'm', 'orange', 'darkblue', \\\n",
    "        #                        'darkcyan', 'y','orangered','chartreuse','brown','deeppink','lightgreen', 'k'],\n",
    "        #'font.serif':cm,\n",
    "        'figure.figsize': fig_size}\n",
    "plt.rcParams.update(params)"
   ]
  },
  {
   "cell_type": "code",
   "execution_count": null,
   "metadata": {
    "collapsed": false
   },
   "outputs": [],
   "source": [
    "## Let's take a look\n",
    "\n",
    "fig, ax = plt.subplots() \n",
    "ax.plot(np.arange(0,lmax+1),Cl_all/Cl_all[0], label = \"All sky\",  lw=1.5)\n",
    "ax.plot(np.arange(0,lmax+1),Cl_noise/Cl_noise[0], label = \"Sky without NGC 4472\", lw=1.5,linestyle = '-.')\n",
    "ax.set_xlabel('$\\ell$')\n",
    "ax.set_ylabel('$C_\\ell/C_{0}$')\n",
    "ax.minorticks_on()\n",
    "plt.axvline(x=4, ymin=0, ymax = 1, linewidth=1.0, linestyle =\":\", label = \"PTA angular resolution\", c='g')\n",
    "ax.legend(loc='best',frameon=False)\n",
    "plt.xlim(0,50)\n",
    "#plt.savefig('../manuscript/plots/Cl_NGC472_wLimit.pdf',bbox_inches='tight')"
   ]
  },
  {
   "cell_type": "code",
   "execution_count": null,
   "metadata": {
    "collapsed": true
   },
   "outputs": [],
   "source": []
  }
 ],
 "metadata": {
  "kernelspec": {
   "display_name": "Python 2",
   "language": "python",
   "name": "python2"
  },
  "language_info": {
   "codemirror_mode": {
    "name": "ipython",
    "version": 2
   },
   "file_extension": ".py",
   "mimetype": "text/x-python",
   "name": "python",
   "nbconvert_exporter": "python",
   "pygments_lexer": "ipython2",
   "version": "2.7.12"
  }
 },
 "nbformat": 4,
 "nbformat_minor": 0
}
