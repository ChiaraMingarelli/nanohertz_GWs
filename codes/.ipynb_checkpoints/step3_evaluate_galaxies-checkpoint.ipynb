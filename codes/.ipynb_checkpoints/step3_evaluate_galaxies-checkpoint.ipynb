{
 "cells": [
  {
   "cell_type": "code",
   "execution_count": null,
   "metadata": {
    "collapsed": true
   },
   "outputs": [],
   "source": [
    "#!/usr/bin/env python\n",
    "\"\"\"choose_skies.ipynb: a notebook to look at detected GW skies \"\"\"\n",
    "\n",
    "__author__ = \"Chiara M. F. Mingarelli\"\n",
    "__copyright__ = \"Copyright 2017, GWASAP project\"\n",
    "__credits__ = [\"Chiara Mingarelli\"]\n",
    "__license__ = \"GPL\"\n",
    "__version__ = \"0.0.1\"\n",
    "__maintainer__ = \"Chiara Mingarelli\"\n",
    "__email__ = \"mingarelli@gmail.com\"\n",
    "__status__ = \"prototype\""
   ]
  },
  {
   "cell_type": "code",
   "execution_count": null,
   "metadata": {
    "collapsed": true
   },
   "outputs": [],
   "source": [
    "from __future__ import division\n",
    "from IPython.display import display, Math, Latex\n",
    "import math\n",
    "from math import sqrt, cos, sin, pi\n",
    "import numpy as np\n",
    "import statsmodels.api as sm\n",
    "from scipy.interpolate import interp1d\n",
    "import scipy.integrate\n",
    "import matplotlib.pyplot as plt\n",
    "import matplotlib.mlab as ml\n",
    "from matplotlib.ticker import FormatStrFormatter, LinearLocator, NullFormatter, NullLocator, MultipleLocator\n",
    "import matplotlib.ticker\n",
    "import matplotlib.colors\n",
    "from matplotlib.font_manager import FontProperties\n",
    "from matplotlib import rc, text\n",
    "import healpy as hp\n",
    "import plot\n",
    "from astropy import units as u\n",
    "from astropy.coordinates import SkyCoord\n",
    "from astropy.io import fits\n",
    "import collections\n",
    "\n",
    "%matplotlib inline\n",
    "%config InlineBackend.figure_format = \"retina\""
   ]
  },
  {
   "cell_type": "code",
   "execution_count": null,
   "metadata": {
    "collapsed": true
   },
   "outputs": [],
   "source": [
    "det_sky = np.genfromtxt(\"../detectedSkies/detected_skies.txt\")"
   ]
  },
  {
   "cell_type": "code",
   "execution_count": null,
   "metadata": {
    "collapsed": true
   },
   "outputs": [],
   "source": [
    "def find_nearest(array,value):\n",
    "    #returns index of matching value in array\n",
    "    idx = (np.abs(array-value)).argmin()\n",
    "    return idx "
   ]
  },
  {
   "cell_type": "code",
   "execution_count": null,
   "metadata": {
    "collapsed": false
   },
   "outputs": [],
   "source": [
    "def find_gal_idx(nameList, name):\n",
    "    ans = [i for i, x in enumerate(nameList) if x == name]\n",
    "    return ans\n",
    "\n",
    "def find_gal_dec_idx(nameList, dec):\n",
    "    ans = [i for i, x in enumerate(nameList) if x >= dec]\n",
    "    return ans\n",
    "\n",
    "def find_gal_dec_idx_neg(nameList, dec):\n",
    "    ans = [i for i, x in enumerate(nameList) if x <= dec]\n",
    "    return ans"
   ]
  },
  {
   "cell_type": "code",
   "execution_count": null,
   "metadata": {
    "collapsed": true
   },
   "outputs": [],
   "source": [
    "det_DEC = det_sky[:,1]*180/pi"
   ]
  },
  {
   "cell_type": "code",
   "execution_count": null,
   "metadata": {
    "collapsed": false
   },
   "outputs": [],
   "source": [
    "det_name = np.genfromtxt(\"../detectedSkies/detected_skies.txt\", usecols = (6), dtype='S13')\n",
    "det_file = np.genfromtxt(\"../detectedSkies/detected_skies.txt\", usecols = (4), dtype=None)"
   ]
  },
  {
   "cell_type": "code",
   "execution_count": null,
   "metadata": {
    "collapsed": true
   },
   "outputs": [],
   "source": [
    "det_name = det_name.tolist()"
   ]
  },
  {
   "cell_type": "code",
   "execution_count": null,
   "metadata": {
    "collapsed": false
   },
   "outputs": [],
   "source": [
    "len(det_name)"
   ]
  },
  {
   "cell_type": "code",
   "execution_count": null,
   "metadata": {
    "collapsed": false
   },
   "outputs": [],
   "source": [
    "rm_dec_pos = find_gal_dec_idx(det_DEC, 70.0)\n",
    "rm_dec_neg = find_gal_dec_idx_neg(det_DEC, -70.0)"
   ]
  },
  {
   "cell_type": "code",
   "execution_count": null,
   "metadata": {
    "collapsed": true
   },
   "outputs": [],
   "source": [
    "# concatenate ±70 deg in declination galaxy indices\n",
    "all_bad_idx = rm_dec_neg + rm_dec_pos "
   ]
  },
  {
   "cell_type": "code",
   "execution_count": null,
   "metadata": {
    "collapsed": true
   },
   "outputs": [],
   "source": [
    "new_det_sky = np.delete(det_sky, all_bad_idx ,0)"
   ]
  },
  {
   "cell_type": "code",
   "execution_count": null,
   "metadata": {
    "collapsed": false
   },
   "outputs": [],
   "source": [
    "new_det_sky_name = np.delete(det_name, all_bad_idx,0)\n",
    "new_det_sky_file= np.delete(det_file, all_bad_idx,0)"
   ]
  },
  {
   "cell_type": "code",
   "execution_count": null,
   "metadata": {
    "collapsed": false
   },
   "outputs": [],
   "source": [
    "new_det_sky.shape"
   ]
  },
  {
   "cell_type": "code",
   "execution_count": null,
   "metadata": {
    "collapsed": false
   },
   "outputs": [],
   "source": [
    "# Parameters of detected skies once the list has had the bad galaxies removed\n",
    "det_RA = new_det_sky[:,0]*180/pi\n",
    "det_DEC = new_det_sky[:,1]*180/pi\n",
    "det_freq = new_det_sky[:,2]\n",
    "det_strain = new_det_sky[:,3]\n",
    "mchirp_rec = new_det_sky[:,5]\n",
    "q_rec = new_det_sky[:,6]\n",
    "det_name = new_det_sky_name\n",
    "det_dist = new_det_sky[:,8]\n",
    "mstar_list = new_det_sky[:,9]\n",
    "save_p= new_det_sky[:,10]\n",
    "det_file = new_det_sky_file"
   ]
  },
  {
   "cell_type": "code",
   "execution_count": null,
   "metadata": {
    "collapsed": true
   },
   "outputs": [],
   "source": [
    "# load pulsar positions on the sky"
   ]
  },
  {
   "cell_type": "code",
   "execution_count": null,
   "metadata": {
    "collapsed": false
   },
   "outputs": [],
   "source": [
    "p_pos = np.genfromtxt(\"pulsar_positions.txt\", skip_header=0, usecols = (1,2) )\n",
    "p_RA = p_pos[:,0]\n",
    "p_DEC = pi/2-p_pos[:,1]\n",
    "p_name = np.genfromtxt(\"pulsar_positions.txt\", skip_header=0, usecols = (0), dtype = 'S13' )"
   ]
  },
  {
   "cell_type": "code",
   "execution_count": null,
   "metadata": {
    "collapsed": false
   },
   "outputs": [],
   "source": [
    "Mp_pos = np.genfromtxt(\"more_pulsars.txt\", usecols = (1,2) )\n",
    "Mp_RA = Mp_pos[:,0]\n",
    "Mp_DEC = Mp_pos[:,1]\n",
    "Mp_name = np.genfromtxt(\"more_pulsars.txt\", usecols = (0), dtype = 'S13' )"
   ]
  },
  {
   "cell_type": "code",
   "execution_count": null,
   "metadata": {
    "collapsed": false
   },
   "outputs": [],
   "source": [
    "range(1)"
   ]
  },
  {
   "cell_type": "code",
   "execution_count": null,
   "metadata": {
    "collapsed": true
   },
   "outputs": [],
   "source": [
    "# Make maps of all the detected sources"
   ]
  },
  {
   "cell_type": "code",
   "execution_count": null,
   "metadata": {
    "collapsed": false
   },
   "outputs": [],
   "source": [
    "# To plot a single sky here, set up for multiple detected skies \n",
    "det_freq = []\n",
    "det_freq.append(3.78653726523e-09)\n",
    "#for ii in range(len(det_RA)):\n",
    "for ii in range(1):\n",
    "    scat_sky=np.genfromtxt(\"../scatter_maps/scatterData_freq_\"+str(det_freq[ii])+\"Hz.dat\")\n",
    "    scat_ra = scat_sky[:,0]\n",
    "    scat_dec = scat_sky[:,1]\n",
    "    scat_strain = np.log10(scat_sky[:,2])\n",
    "    #look_up_freq = det_freq[ii]\n",
    "    ax = plt.subplot(111, projection='astro mollweide')\n",
    "    colors = scat_strain\n",
    "    sky=plt.scatter(scat_ra, scat_dec, c = colors, edgecolors='none', cmap ='viridis_r',  rasterized=True)\n",
    "    #plt.suptitle(str(det_name[ii])+\", GW sky at $f=$ \"+str('%.2e' %det_freq[ii])+\" Hz, $h=$\"+str('%.2e'%det_strain[ii]),\\\n",
    "    #             y=0.3)\n",
    "    plt.suptitle(r\"$\\log_{10}(h)$, GW sky at $f=$ \"+str('%.2e' %det_freq[ii])+\" Hz\", y=0.3)\n",
    "    plt.scatter(Mp_RA*pi/180, Mp_DEC*pi/180, color ='white', marker = \"*\", alpha=1)\n",
    "    plt.scatter(p_RA, p_DEC, marker = \"*\", color = '#ff7f0e', s = 100)\n",
    "    plt.colorbar(sky, orientation = 'horizontal')\n",
    "    ax.grid(linewidth=0.5)\n",
    "    #ax.set_axisbelow(True)\n",
    "    #plt.savefig(\"../detectedSkies/hercules_skies/log_detected_sky_\"+str(ii)+\"_\"+str(det_name[ii])+\"_wPulsars.pdf\", dpi=400)\n",
    "    #plt.savefig(\"../detectedSkies/hercules_skies/log_detected_sky_\"+str(ii)+\"_wPulsars.pdf\", dpi=400)\n",
    "    #plt.clf()\n",
    "    #plt.savefig(\"allEPTA_pulsars.pdf\", dpi=400)\n"
   ]
  },
  {
   "cell_type": "markdown",
   "metadata": {
    "collapsed": true
   },
   "source": [
    "## Visually inspect resultant GW skies. Are the sources lying on e.g. interpolation flares?"
   ]
  },
  {
   "cell_type": "code",
   "execution_count": null,
   "metadata": {
    "collapsed": true
   },
   "outputs": [],
   "source": [
    "# indices of skies which failed 2nd inspection, you need to put these in by hand\n",
    "sec_insp_idx = [0,2,4,6,8, 9,10,16,19,21, 28,33,34,41, 44,49,50,53,56,57,61,65,66,70,72,76,80,89,93,108,109,114,\\\n",
    "               120, 131,134,139,140,142,143,144,147,148,151,159,164,166,175,]"
   ]
  },
  {
   "cell_type": "code",
   "execution_count": null,
   "metadata": {
    "collapsed": false
   },
   "outputs": [],
   "source": [
    "final_sky = np.delete(new_det_sky, sec_insp_idx,0)\n",
    "final_sky_name = np.delete(new_det_sky_name, sec_insp_idx,0)\n",
    "final_sky_file = np.delete(new_det_sky_file, sec_insp_idx,0)"
   ]
  },
  {
   "cell_type": "code",
   "execution_count": null,
   "metadata": {
    "collapsed": false
   },
   "outputs": [],
   "source": [
    "final_sky_file"
   ]
  },
  {
   "cell_type": "code",
   "execution_count": null,
   "metadata": {
    "collapsed": true
   },
   "outputs": [],
   "source": [
    "# final galaxy list and parameters\n",
    "\n",
    "det_RA = final_sky[:,0]*180/pi\n",
    "det_DEC = final_sky[:,1]*180/pi\n",
    "det_freq = final_sky[:,2]\n",
    "det_strain = final_sky[:,3]\n",
    "mchirp_rec = final_sky[:,5]\n",
    "q_rec = final_sky[:,6]\n",
    "det_name = final_sky_name\n",
    "det_dist = final_sky[:,7]\n",
    "mstar_list = final_sky[:,8]\n",
    "save_p= final_sky[:,9]\n",
    "det_file = final_sky_file"
   ]
  },
  {
   "cell_type": "code",
   "execution_count": null,
   "metadata": {
    "collapsed": false
   },
   "outputs": [],
   "source": [
    "def hist_weight(lst):\n",
    "    return np.ones_like(lst)/len(lst)\n",
    "\n",
    "def auto_bin(bin_size, min_edge, max_edge):\n",
    "    #bin_size = 0.05; min_edge = -3.5; max_edge = -1\n",
    "    N = (max_edge-min_edge)/bin_size; Nplus1 = N + 1\n",
    "    bin_list = np.linspace(min_edge, max_edge, Nplus1)\n",
    "    return bin_list"
   ]
  },
  {
   "cell_type": "code",
   "execution_count": null,
   "metadata": {
    "collapsed": false
   },
   "outputs": [],
   "source": [
    "# What is the distribution of frequencies where sources were detected?\n",
    "#bin_size = 0.1; min_edge = -9.0; max_edge = -8\n",
    "bin_list = auto_bin(0.1,-9,-8)\n",
    "weights = hist_weight(np.log10(det_freq))\n",
    "plt.hist(np.log10(det_freq),bin_list, align='left',  alpha=0.8, edgecolor = 'black', weights = weights)\n",
    "plt.xlabel(r\"Distribution of $\\log_{10}(f_\\mathrm{GW})$ detected (Hz)\")\n",
    "plt.ylabel(\"Probability\")\n",
    "plt.legend(frameon=False)\n",
    "plt.tight_layout()\n",
    "#plt.savefig(\"det_gw_freqs_3Mar17.pdf\")"
   ]
  },
  {
   "cell_type": "code",
   "execution_count": null,
   "metadata": {
    "collapsed": true
   },
   "outputs": [],
   "source": [
    "det_dist = det_dist.tolist()"
   ]
  },
  {
   "cell_type": "code",
   "execution_count": null,
   "metadata": {
    "collapsed": false
   },
   "outputs": [],
   "source": [
    "bin_list = auto_bin(10,10,220)\n",
    "weights = hist_weight(det_dist)\n",
    "ax = fig.add_subplot(111)\n",
    "plt.hist(det_dist, bin_list, weights=weights, alpha = 0.8, align='left', edgecolor = 'black')\n",
    "majorLocator = MultipleLocator(25)\n",
    "minorLocator = MultipleLocator(5)\n",
    "ax.xaxis.set_minor_locator(minorLocator)\n",
    "ax.xaxis.set_major_locator(majorLocator)\n",
    "plt.xlabel(\"Distance to Galaxy (Mpc)\")\n",
    "plt.ylabel(\"Probability\")\n",
    "plt.legend(frameon=False)\n",
    "plt.tight_layout()\n",
    "#plt.savefig(\"distance_to_detected_gals_3Mar17_10bins.pdf\")"
   ]
  },
  {
   "cell_type": "code",
   "execution_count": null,
   "metadata": {
    "collapsed": true
   },
   "outputs": [],
   "source": [
    "catalog_list = gal_name"
   ]
  },
  {
   "cell_type": "code",
   "execution_count": null,
   "metadata": {
    "collapsed": false
   },
   "outputs": [],
   "source": [
    "len(catalog_list)"
   ]
  },
  {
   "cell_type": "code",
   "execution_count": null,
   "metadata": {
    "collapsed": false
   },
   "outputs": [],
   "source": [
    "histo_data = dict((x, catalog_list.count(x)) for x in catalog_list)"
   ]
  },
  {
   "cell_type": "code",
   "execution_count": null,
   "metadata": {
    "collapsed": true
   },
   "outputs": [],
   "source": [
    "d= histo_data"
   ]
  },
  {
   "cell_type": "code",
   "execution_count": null,
   "metadata": {
    "collapsed": false
   },
   "outputs": [],
   "source": [
    "X = np.arange(len(d))\n",
    "fig = plt.figure()\n",
    "ax = fig.add_subplot(111)\n",
    "ax.barh(X, d.values(), alpha=0.5, linewidth = 0.5)\n",
    "ax.set_yticks(X)\n",
    "#ax.set_yticklabels(large_label)\n",
    "plt.setp(ax.get_yticklabels(), fontsize=5)\n",
    "ax.set_yticklabels(d.keys())\n",
    "majorLocator = MultipleLocator(1)\n",
    "minorLocator = MultipleLocator(1)\n",
    "ax.xaxis.set_minor_locator(minorLocator)\n",
    "ax.xaxis.set_major_locator(majorLocator)\n",
    "xmax = max(d.values()) + 1\n",
    "plt.xlim(0, xmax)\n",
    "plt.xlabel(\"Count\")\n",
    "\n",
    "#plt.savefig(\"64k_galaxy_count_revised_1Feb17.pdf\", bbox_inches='tight')\n",
    "plt.show()"
   ]
  },
  {
   "cell_type": "code",
   "execution_count": null,
   "metadata": {
    "collapsed": true
   },
   "outputs": [],
   "source": [
    "# try using a sorted list"
   ]
  },
  {
   "cell_type": "code",
   "execution_count": null,
   "metadata": {
    "collapsed": false
   },
   "outputs": [],
   "source": [
    "histo_data = sorted(histo_data.items(), key=lambda x:x[1]) # sort histogram by count"
   ]
  },
  {
   "cell_type": "code",
   "execution_count": null,
   "metadata": {
    "collapsed": false
   },
   "outputs": [],
   "source": [
    "value = np.zeros([len(histo_data)])\n",
    "label = []"
   ]
  },
  {
   "cell_type": "code",
   "execution_count": null,
   "metadata": {
    "collapsed": false
   },
   "outputs": [],
   "source": [
    "for j in range(len(histo_data)):\n",
    "    value[j] = histo_data[j][1]\n",
    "    label.append(histo_data[j][0])"
   ]
  },
  {
   "cell_type": "code",
   "execution_count": null,
   "metadata": {
    "collapsed": false
   },
   "outputs": [],
   "source": [
    "X = np.arange(len(value))\n",
    "fig = plt.figure()\n",
    "ax = fig.add_subplot(111)\n",
    "ax.barh(X, value, alpha=0.5, linewidth = 0.4)\n",
    "ax.set_yticks(X)\n",
    "plt.setp(ax.get_yticklabels(), fontsize=1.5)\n",
    "ax.set_yticklabels(label)\n",
    "majorLocator = MultipleLocator(1)\n",
    "minorLocator = MultipleLocator(1)\n",
    "ax.xaxis.set_minor_locator(minorLocator)\n",
    "ax.xaxis.set_major_locator(majorLocator)\n",
    "#plt.xticks(np.arange(0,4, 1))\n",
    "\n",
    "#plt.savefig(\"sorted_75k_galaxies_3Mar17.pdf\")"
   ]
  },
  {
   "cell_type": "code",
   "execution_count": null,
   "metadata": {
    "collapsed": true
   },
   "outputs": [],
   "source": [
    "# Make LaTex tables for paper by adding  & and \\\\\n",
    "det_nameR = []\n",
    "det_distR = []\n",
    "mstar_listR = []\n",
    "mchirp_recR = []\n",
    "q_recR = []\n",
    "det_freqR = []\n",
    "det_strainR = []"
   ]
  },
  {
   "cell_type": "code",
   "execution_count": null,
   "metadata": {
    "collapsed": true
   },
   "outputs": [],
   "source": [
    "# final galaxy list and parameters\n",
    "\n",
    "det_RA = final_sky[:,0]*180/pi\n",
    "det_DEC = final_sky[:,1]*180/pi\n",
    "det_freq = final_sky[:,2]\n",
    "det_strain = final_sky[:,3]\n",
    "mchirp_rec = final_sky[:,5]\n",
    "q_rec = final_sky[:,6]\n",
    "det_name = final_sky_name\n",
    "det_dist = final_sky[:,8]\n",
    "mstar_list = final_sky[:,9]\n",
    "save_p= final_sky[:,10]\n",
    "det_file = final_sky_file"
   ]
  },
  {
   "cell_type": "code",
   "execution_count": null,
   "metadata": {
    "collapsed": false
   },
   "outputs": [],
   "source": [
    "# 34 detected galaxies; add \"&\" and slashes for latex table \n",
    "for ii in range(34):\n",
    "    det_nameR.append(str(det_name[ii])+str(\" & \"))\n",
    "    det_distR.append(str(det_dist[ii])+str(\" & \"))\n",
    "    mstar_listR.append(str(\"%.2f\" %mstar_list[ii])+str(\" & \"))\n",
    "    mchirp_recR.append(str('%.2e'%mchirp_rec[ii])+str(\" & \"))\n",
    "    q_recR.append(str(\"%.2f\" %q_rec[ii])+str(\" & \"))\n",
    "    det_freqR.append(str(\"%.2e\" %det_freq[ii])+str(\" & \"))\n",
    "    det_strainR.append(str(\"%.2e\" %det_strain[ii])+str(\" \\\\\\ \"))"
   ]
  },
  {
   "cell_type": "code",
   "execution_count": null,
   "metadata": {
    "collapsed": true
   },
   "outputs": [],
   "source": [
    "gal_name = []"
   ]
  },
  {
   "cell_type": "code",
   "execution_count": null,
   "metadata": {
    "collapsed": false
   },
   "outputs": [],
   "source": [
    "for ii in range(len(final_sky_file)):\n",
    "    sky_q = np.genfromtxt(\"../gw_skies/\"+str(final_sky_file[ii]), usecols = 5)\n",
    "    #for qdet in sky_q:\n",
    "    index = find_nearest(sky_q, q_rec[ii])\n",
    "    print sky_q[index]\n",
    "    gal_name.append(np.genfromtxt(\"../gw_skies/\"+str(final_sky_file[ii]), usecols = 6, dtype='str')[index])"
   ]
  },
  {
   "cell_type": "code",
   "execution_count": null,
   "metadata": {
    "collapsed": false
   },
   "outputs": [],
   "source": [
    "# Save final sky\n",
    "\n",
    "#dest_file = \"../detectedSkies/hercules_skies/herc_final_detected_skies.txt\"    \n",
    "result_file = open(dest_file, \"a+\") # the a+ allows you to create the file and write to it.\n",
    "\n",
    "#for N, D, E, M, Q, F, H, FN in zip (det_nameR, det_distR, mstar_listR, mchirp_recR, q_recR, det_freqR, det_strainR, final_sky_file):\n",
    "for N, D, E, M, Q, F, H, FN in zip (gal_name, det_dist, mstar_list, mchirp_rec, q_rec, det_freq, det_strain, final_sky_file):\n",
    "    result_file.write('{0} {1} {2} {3} {4} {5} {6} {7}\\n'.format(N, D, E, M, Q, F, H, FN))\n",
    "result_file.close()"
   ]
  },
  {
   "cell_type": "markdown",
   "metadata": {
    "collapsed": true
   },
   "source": [
    "## Evaluate this next cell at any time for nice figure formatting"
   ]
  },
  {
   "cell_type": "code",
   "execution_count": null,
   "metadata": {
    "collapsed": true
   },
   "outputs": [],
   "source": [
    "fig_width_pt = 245.27 #513.17           # Get this from LaTeX using \\showthe\\columnwidth\n",
    "inches_per_pt = 1.0/72.27               # Convert pt to inches\n",
    "golden_mean = (np.sqrt(5)-1.0)/2.0      # Aesthetic ratio\n",
    "fig_width = fig_width_pt*inches_per_pt  # width in inches\n",
    "fig_height =fig_width*golden_mean       # height in inches\n",
    "fig_size = [fig_width,fig_height]\n",
    "\n",
    "params = {'backend': 'pdf',\n",
    "        'axes.labelsize': 7,\n",
    "        'lines.markersize': 4,\n",
    "        'font.size': 7,\n",
    "        'xtick.major.size':6,\n",
    "        'xtick.minor.size':3,  \n",
    "        'ytick.major.size':6,\n",
    "        'ytick.minor.size':3, \n",
    "        'xtick.major.width':0.5,\n",
    "        'ytick.major.width':0.5,\n",
    "        'xtick.minor.width':0.5,\n",
    "        'ytick.minor.width':0.5,\n",
    "        'lines.markeredgewidth':1,\n",
    "        'axes.linewidth':1.2,\n",
    "        'legend.fontsize': 7,\n",
    "        'xtick.labelsize': 7,\n",
    "        'ytick.labelsize': 7,\n",
    "        'savefig.dpi':200,\n",
    "        'path.simplify':True,\n",
    "        'font.family': 'serif',\n",
    "        'font.serif':'Times',\n",
    "        'text.latex.preamble': [r'\\usepackage{amsmath}'],\n",
    "        'text.usetex':True,\n",
    "        #'axes.color_cycle': ['b', 'lime', 'r', 'purple', 'g', 'c', 'm', 'orange', 'darkblue', \\\n",
    "        #                        'darkcyan', 'y','orangered','chartreuse','brown','deeppink','lightgreen', 'k'],\n",
    "        #'font.serif':cm,\n",
    "        'figure.figsize': fig_size}\n",
    "plt.rcParams.update(params)"
   ]
  },
  {
   "cell_type": "code",
   "execution_count": null,
   "metadata": {
    "collapsed": true
   },
   "outputs": [],
   "source": []
  }
 ],
 "metadata": {
  "kernelspec": {
   "display_name": "Python 2",
   "language": "python",
   "name": "python2"
  },
  "language_info": {
   "codemirror_mode": {
    "name": "ipython",
    "version": 2
   },
   "file_extension": ".py",
   "mimetype": "text/x-python",
   "name": "python",
   "nbconvert_exporter": "python",
   "pygments_lexer": "ipython2",
   "version": "2.7.12"
  }
 },
 "nbformat": 4,
 "nbformat_minor": 0
}
